{
 "cells": [
  {
   "cell_type": "code",
   "execution_count": 1,
   "id": "b4122b5e-53ce-472e-baba-2f405d414c0e",
   "metadata": {},
   "outputs": [],
   "source": [
    "import numpy as np\n",
    "import tensorflow as tf\n",
    "import matplotlib.pyplot as plt\n"
   ]
  },
  {
   "cell_type": "code",
   "execution_count": 2,
   "id": "8acb9596-ccc5-4dfe-80b4-86449169ebbe",
   "metadata": {},
   "outputs": [],
   "source": [
    "xor_table = np.array([[0, 0, 0],\n",
    "                      [1, 0, 1],\n",
    "                      [0, 1, 1],\n",
    "                      [1, 1, 0]], dtype=np.float32)\n",
    "\n",
    "x_train = xor_table[:, :2]  # Inputs: x1, x2\n",
    "y_train = xor_table[:, 2:]  # Labels: y"
   ]
  },
  {
   "cell_type": "code",
   "execution_count": 3,
   "id": "a8188238-de4c-48d2-83cd-f2f831266bf9",
   "metadata": {},
   "outputs": [],
   "source": [
    "def create_xor_model():\n",
    "    model = tf.keras.Sequential([\n",
    "        tf.keras.layers.Dense(4, activation='relu', input_shape=(2,)),  # Hidden layer\n",
    "        tf.keras.layers.Dense(1, activation='sigmoid')  # Output layer\n",
    "    ])\n",
    "    \n",
    "    model.compile(optimizer='adam', loss='binary_crossentropy', metrics=['accuracy'])\n",
    "    return model"
   ]
  },
  {
   "cell_type": "code",
   "execution_count": 4,
   "id": "9cd648f7-1b8f-4b6b-b654-acbc42e60a1d",
   "metadata": {},
   "outputs": [
    {
     "name": "stderr",
     "output_type": "stream",
     "text": [
      "C:\\Users\\GIGABYTE\\anaconda3\\Lib\\site-packages\\keras\\src\\layers\\core\\dense.py:87: UserWarning: Do not pass an `input_shape`/`input_dim` argument to a layer. When using Sequential models, prefer using an `Input(shape)` object as the first layer in the model instead.\n",
      "  super().__init__(activity_regularizer=activity_regularizer, **kwargs)\n"
     ]
    },
    {
     "data": {
      "text/plain": [
       "<keras.src.callbacks.history.History at 0x28daf6d3d40>"
      ]
     },
     "execution_count": 4,
     "metadata": {},
     "output_type": "execute_result"
    }
   ],
   "source": [
    "model = create_xor_model()\n",
    "model.fit(x_train, y_train, epochs=500, verbose=0)"
   ]
  },
  {
   "cell_type": "code",
   "execution_count": 5,
   "id": "837328e7-b6c1-4265-8163-797328e04ea7",
   "metadata": {},
   "outputs": [
    {
     "name": "stdout",
     "output_type": "stream",
     "text": [
      "\u001b[1m1/1\u001b[0m \u001b[32m━━━━━━━━━━━━━━━━━━━━\u001b[0m\u001b[37m\u001b[0m \u001b[1m0s\u001b[0m 133ms/step\n",
      "Predicted XOR Truth Table:\n",
      "[[0. 0. 0.]\n",
      " [1. 0. 1.]\n",
      " [0. 1. 0.]\n",
      " [1. 1. 1.]]\n"
     ]
    }
   ],
   "source": [
    "y_pred = model.predict(x_train).round().astype(np.uint8)\n",
    "print(\"Predicted XOR Truth Table:\")\n",
    "print(np.column_stack((xor_table[:, :2], y_pred)))"
   ]
  },
  {
   "cell_type": "code",
   "execution_count": null,
   "id": "f93a6b7f-1aae-488a-b07c-909f62b219c1",
   "metadata": {},
   "outputs": [],
   "source": []
  }
 ],
 "metadata": {
  "kernelspec": {
   "display_name": "Python 3 (ipykernel)",
   "language": "python",
   "name": "python3"
  },
  "language_info": {
   "codemirror_mode": {
    "name": "ipython",
    "version": 3
   },
   "file_extension": ".py",
   "mimetype": "text/x-python",
   "name": "python",
   "nbconvert_exporter": "python",
   "pygments_lexer": "ipython3",
   "version": "3.12.7"
  }
 },
 "nbformat": 4,
 "nbformat_minor": 5
}
